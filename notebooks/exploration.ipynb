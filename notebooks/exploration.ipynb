{
 "cells": [
  {
   "cell_type": "markdown",
   "id": "b925f52c",
   "metadata": {},
   "source": [
    "# function to extract data and create a dataframe"
   ]
  },
  {
   "cell_type": "code",
   "execution_count": 7,
   "id": "ff361007",
   "metadata": {},
   "outputs": [
    {
     "name": "stdout",
     "output_type": "stream",
     "text": [
      "dict_keys(['time', 'lat', 'lon', 'RRS412', 'RRS443', 'RRS490', 'RRS510', 'RRS555', 'RRS670'])\n"
     ]
    }
   ],
   "source": [
    "import sys\n",
    "import os\n",
    "\n",
    "sys.path.append(os.path.abspath(\"..\"))\n",
    "\n",
    "import pandas as pd\n",
    "import xarray as xr \n",
    "import netCDF4 as n4\n",
    "from config import * \n",
    "\n",
    "file_path = os.path.join(NETCDF_FILE, \"01012000_rrs_mediterranean_cmems_monthly.nc\")\n",
    "data = xr.open_dataset(file_path)\n",
    "data1 = n4.Dataset(file_path)\n",
    "\n",
    "# print(data)\n",
    "# print(\"\\n\")\n",
    "# print(data1)\n",
    "\n",
    "print(data1.variables.keys())"
   ]
  },
  {
   "cell_type": "code",
   "execution_count": null,
   "id": "0860f9fe",
   "metadata": {},
   "outputs": [
    {
     "ename": "SyntaxError",
     "evalue": "invalid syntax. Perhaps you forgot a comma? (3869031420.py, line 9)",
     "output_type": "error",
     "traceback": [
      "  \u001b[36mCell\u001b[39m\u001b[36m \u001b[39m\u001b[32mIn[8]\u001b[39m\u001b[32m, line 9\u001b[39m\n\u001b[31m    \u001b[39m\u001b[31m\"lon\": list(lon) * len(lat)\u001b[39m\n           ^\n\u001b[31mSyntaxError\u001b[39m\u001b[31m:\u001b[39m invalid syntax. Perhaps you forgot a comma?\n"
     ]
    }
   ],
   "source": [
    "df = data.to_dataframe().reset_index()\n",
    "time =data1.variables['time'][:] \n",
    "lat = data1.variables['lat'][:]\n",
    "lon = data1.variables['lon'][:]\n",
    "rrs = data1.variables['RRS412'][:]\n",
    "df1 = pd.DataFrame({\n",
    "    \"time\": time.repeat(len(lat)),\n",
    "    \"lat\": lat.repeat(len(lon)),\n",
    "    \"lon\": list(lon) * len(lat),\n",
    "    \"r412\": rr2.flatten()\n",
    "})"
   ]
  }
 ],
 "metadata": {
  "kernelspec": {
   "display_name": "venv",
   "language": "python",
   "name": "python3"
  },
  "language_info": {
   "codemirror_mode": {
    "name": "ipython",
    "version": 3
   },
   "file_extension": ".py",
   "mimetype": "text/x-python",
   "name": "python",
   "nbconvert_exporter": "python",
   "pygments_lexer": "ipython3",
   "version": "3.11.2"
  }
 },
 "nbformat": 4,
 "nbformat_minor": 5
}
