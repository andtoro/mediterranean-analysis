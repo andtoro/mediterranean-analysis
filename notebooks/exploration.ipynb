{
 "cells": [
  {
   "cell_type": "markdown",
   "id": "b925f52c",
   "metadata": {},
   "source": [
    "# function to extract data and create a dataframe"
   ]
  },
  {
   "cell_type": "code",
   "execution_count": null,
   "id": "ff361007",
   "metadata": {},
   "outputs": [],
   "source": [
    "import sys\n",
    "import os\n",
    "\n",
    "sys.path.append(os.path.abspath(\"..\"))\n",
    "\n",
    "import xarray as xr\n",
    "import pandas as pd \n",
    "import polars as pl\n",
    "from config import * \n",
    "\n",
    "file_path = os.path.join(NETCDF_FILE, \"01012000_rrs_mediterranean_cmems_monthly.nc\")\n",
    "data = xr.open_dataset(file_path, decode_times=True)\n",
    "\n",
    "csv_path = os.path.join(CSV_DIR, \"jan2000.csv\")\n",
    "df_csv = data.to_dataframe().reset_index()\n",
    "df_csv.to_csv(csv_path, index=False)\n",
    "\n",
    "df_rrs = data.to_dataframe().dropna().reset_index()\n",
    "df_lat_lon = data.to_dataframe().reset_index()"
   ]
  },
  {
   "cell_type": "markdown",
   "id": "7ba308aa",
   "metadata": {},
   "source": [
    "## there are NaNs values and the time is 2002-12-31"
   ]
  },
  {
   "cell_type": "code",
   "execution_count": null,
   "id": "4b56ca24",
   "metadata": {},
   "outputs": [],
   "source": [
    "df_rrs['time'] = pd.Timestamp(\"2000-01-15\")\n",
    "df_lat_lon['time'] = pd.Timestamp(\"2000-01-15\")\n",
    "df_pl = pl.from_pandas(df_rrs)\n",
    "df = df_lat_lon\n",
    "print(df.columns)"
   ]
  },
  {
   "cell_type": "code",
   "execution_count": null,
   "id": "4e2d859c",
   "metadata": {},
   "outputs": [],
   "source": [
    "import cartopy.crs as ccrs\n",
    "import matplotlib.pyplot as plt\n",
    "import cartopy.feature as cfeature\n",
    "import os\n",
    "\n",
    "save_var = True\n",
    "figure_path = os.path.join(FIGURE_DIR, 'jan_2000_ref.png')\n",
    "\n",
    "fig = plt.figure(figsize=(18, 12))\n",
    "\n",
    "for idx, wl in enumerate(WAVELENGTH_DIM):\n",
    "    ax = plt.subplot(2, 3, idx + 1, projection=ccrs.PlateCarree())\n",
    "    scatter = ax.scatter(df['lon'], df['lat'], c=df[f'RRS{wl}'], s=1, cmap='viridis',\n",
    "                 alpha=0.8, transform=ccrs.PlateCarree(), vmin=df[f'RRS{wl}'].quantile(0.01),\n",
    "                 vmax=df[f'RRS{wl}'].quantile(0.99))\n",
    "    cbar = plt.colorbar(scatter, ax=ax, orientation='horizontal', \n",
    "                       pad=0.01, shrink=0.7)\n",
    "    cbar.set_label(f'{wl} nm Reflectance', fontsize=12)\n",
    "    cbar.ax.tick_params(labelsize=8)\n",
    "    ax.coastlines(resolution='10m', linewidth=0.2, color='black')\n",
    "    ax.add_feature(cfeature.LAND, facecolor='lightgray', alpha=0.3)\n",
    "    ax.set_title(f'RRS {wl} nm', fontsize=11, fontweight='bold')\n",
    "\n",
    "fig.suptitle(f'Mediterranean Sea Remote Sensing Reflectance, January 2000', \n",
    "                fontsize=14, fontweight='bold', y=0.78)\n",
    "# plt.subplots_adjust(hspace=0.1) # different method to decrease space between subplots\n",
    "plt.tight_layout(rect=[0, 0, 1, 0.95], h_pad=0.5)\n",
    "if save_var:\n",
    "    plt.savefig(figure_path, bbox_inches='tight', format='png', dpi=300)\n",
    "    print(f\"Figure saved to: {figure_path}\")\n",
    "plt.show()"
   ]
  }
 ],
 "metadata": {
  "kernelspec": {
   "display_name": "venv",
   "language": "python",
   "name": "python3"
  },
  "language_info": {
   "codemirror_mode": {
    "name": "ipython",
    "version": 3
   },
   "file_extension": ".py",
   "mimetype": "text/x-python",
   "name": "python",
   "nbconvert_exporter": "python",
   "pygments_lexer": "ipython3",
   "version": "3.11.2"
  }
 },
 "nbformat": 4,
 "nbformat_minor": 5
}
