{
 "cells": [
  {
   "cell_type": "markdown",
   "id": "b925f52c",
   "metadata": {},
   "source": [
    "# function to extract data and create a dataframe"
   ]
  },
  {
   "cell_type": "code",
   "execution_count": null,
   "id": "ff361007",
   "metadata": {},
   "outputs": [],
   "source": [
    "import sys\n",
    "import os\n",
    "\n",
    "sys.path.append(os.path.abspath(\"..\"))\n",
    "\n",
    "import xarray as xr\n",
    "from config import * \n",
    "\n",
    "file_path = os.path.join(NETCDF_FILE, \"01012000_rrs_mediterranean_cmems_monthly.nc\")\n",
    "data = xr.open_dataset(file_path, decode_times=True)\n",
    "\n",
    "csv_path = os.path.join(CSV_DIR, \"jan.csv\")\n",
    "df_csv = data.to_dataframe().reset_index()\n",
    "df_csv.to_csv(csv_path, index=False)\n",
    "\n",
    "df_rrs = data.to_dataframe().dropna().reset_index()\n",
    "df_lat_lon = data.to_dataframe().reset_index()"
   ]
  },
  {
   "cell_type": "markdown",
   "id": "7ba308aa",
   "metadata": {},
   "source": [
    "## there are NaNs values and the time is 2002-12-31"
   ]
  },
  {
   "cell_type": "code",
   "execution_count": null,
   "id": "4b56ca24",
   "metadata": {},
   "outputs": [
    {
     "name": "stdout",
     "output_type": "stream",
     "text": [
      "              time        lat        lon    RRS412    RRS443    RRS490  \\\n",
      "0       2002-12-31  30.283699  19.112167  0.006137  0.007948  0.008458   \n",
      "1       2002-12-31  30.283699  19.125019  0.007357  0.009227  0.010133   \n",
      "2       2002-12-31  30.283699  19.137871  0.004447  0.006845  0.008546   \n",
      "3       2002-12-31  30.283699  19.150723  0.004044  0.006520  0.008117   \n",
      "4       2002-12-31  30.283699  19.176426  0.004904  0.007569  0.009212   \n",
      "...            ...        ...        ...       ...       ...       ...   \n",
      "1886850 2002-12-31  45.755379  13.624504  0.004613  0.006045  0.008161   \n",
      "1886851 2002-12-31  45.755379  13.637356  0.004637  0.006245  0.008414   \n",
      "1886852 2002-12-31  45.765511  13.573097  0.005970  0.006392  0.008068   \n",
      "1886853 2002-12-31  45.765511  13.585949  0.005043  0.006059  0.008145   \n",
      "1886854 2002-12-31  45.765511  13.611652  0.004144  0.005768  0.008160   \n",
      "\n",
      "           RRS510    RRS555    RRS670  \n",
      "0        0.006160  0.003345  0.000668  \n",
      "1        0.007656  0.004360  0.000251  \n",
      "2        0.006529  0.003791  0.000031  \n",
      "3        0.006533  0.004139  0.000141  \n",
      "4        0.006934  0.004238  0.000273  \n",
      "...           ...       ...       ...  \n",
      "1886850  0.008017  0.006428  0.000639  \n",
      "1886851  0.008393  0.006833  0.000821  \n",
      "1886852  0.007938  0.006370  0.000602  \n",
      "1886853  0.008251  0.006729  0.000892  \n",
      "1886854  0.007934  0.005892  0.000374  \n",
      "\n",
      "[1886855 rows x 9 columns]\n"
     ]
    }
   ],
   "source": []
  }
 ],
 "metadata": {
  "kernelspec": {
   "display_name": "venv",
   "language": "python",
   "name": "python3"
  },
  "language_info": {
   "codemirror_mode": {
    "name": "ipython",
    "version": 3
   },
   "file_extension": ".py",
   "mimetype": "text/x-python",
   "name": "python",
   "nbconvert_exporter": "python",
   "pygments_lexer": "ipython3",
   "version": "3.11.2"
  }
 },
 "nbformat": 4,
 "nbformat_minor": 5
}
